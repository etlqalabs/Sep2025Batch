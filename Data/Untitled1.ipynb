{
 "cells": [
  {
   "cell_type": "code",
   "execution_count": 1,
   "id": "507c9e3e",
   "metadata": {},
   "outputs": [],
   "source": [
    "import pandas as pd\n",
    "\n",
    "data = {\n",
    "    \"Employee_ID\": [101, 102, 103, 104],\n",
    "    \"Name\": [\"Amit\", \"Bhavna\", \"Chetan\", \"Divya\"],\n",
    "    \"Department\": [\"HR\", \"Finance\", \"IT\", \"Marketing\"],\n",
    "    \"Salary\": [50000, 60000, 55000, 52000],\n",
    "    \"Joining_Date\": [\"2022-01-10\", \"2021-03-15\", \"2020-07-01\", \"2023-02-20\"]\n",
    "}\n"
   ]
  },
  {
   "cell_type": "code",
   "execution_count": 2,
   "id": "0b4f9045",
   "metadata": {},
   "outputs": [],
   "source": [
    "df = pd.DataFrame(data)\n"
   ]
  },
  {
   "cell_type": "code",
   "execution_count": 3,
   "id": "da857eb1",
   "metadata": {},
   "outputs": [
    {
     "data": {
      "text/html": [
       "<div>\n",
       "<style scoped>\n",
       "    .dataframe tbody tr th:only-of-type {\n",
       "        vertical-align: middle;\n",
       "    }\n",
       "\n",
       "    .dataframe tbody tr th {\n",
       "        vertical-align: top;\n",
       "    }\n",
       "\n",
       "    .dataframe thead th {\n",
       "        text-align: right;\n",
       "    }\n",
       "</style>\n",
       "<table border=\"1\" class=\"dataframe\">\n",
       "  <thead>\n",
       "    <tr style=\"text-align: right;\">\n",
       "      <th></th>\n",
       "      <th>Employee_ID</th>\n",
       "      <th>Name</th>\n",
       "      <th>Department</th>\n",
       "      <th>Salary</th>\n",
       "      <th>Joining_Date</th>\n",
       "    </tr>\n",
       "  </thead>\n",
       "  <tbody>\n",
       "    <tr>\n",
       "      <th>0</th>\n",
       "      <td>101</td>\n",
       "      <td>Amit</td>\n",
       "      <td>HR</td>\n",
       "      <td>50000</td>\n",
       "      <td>2022-01-10</td>\n",
       "    </tr>\n",
       "    <tr>\n",
       "      <th>1</th>\n",
       "      <td>102</td>\n",
       "      <td>Bhavna</td>\n",
       "      <td>Finance</td>\n",
       "      <td>60000</td>\n",
       "      <td>2021-03-15</td>\n",
       "    </tr>\n",
       "    <tr>\n",
       "      <th>2</th>\n",
       "      <td>103</td>\n",
       "      <td>Chetan</td>\n",
       "      <td>IT</td>\n",
       "      <td>55000</td>\n",
       "      <td>2020-07-01</td>\n",
       "    </tr>\n",
       "    <tr>\n",
       "      <th>3</th>\n",
       "      <td>104</td>\n",
       "      <td>Divya</td>\n",
       "      <td>Marketing</td>\n",
       "      <td>52000</td>\n",
       "      <td>2023-02-20</td>\n",
       "    </tr>\n",
       "  </tbody>\n",
       "</table>\n",
       "</div>"
      ],
      "text/plain": [
       "   Employee_ID    Name Department  Salary Joining_Date\n",
       "0          101    Amit         HR   50000   2022-01-10\n",
       "1          102  Bhavna    Finance   60000   2021-03-15\n",
       "2          103  Chetan         IT   55000   2020-07-01\n",
       "3          104   Divya  Marketing   52000   2023-02-20"
      ]
     },
     "execution_count": 3,
     "metadata": {},
     "output_type": "execute_result"
    }
   ],
   "source": [
    "df"
   ]
  },
  {
   "cell_type": "code",
   "execution_count": 4,
   "id": "842668c7",
   "metadata": {},
   "outputs": [],
   "source": [
    "df.to_parquet('employees.parquet', engine='pyarrow')"
   ]
  },
  {
   "cell_type": "code",
   "execution_count": 5,
   "id": "9763a427",
   "metadata": {},
   "outputs": [],
   "source": [
    "df_parquet = pd.read_parquet('employees.parquet')"
   ]
  },
  {
   "cell_type": "code",
   "execution_count": 6,
   "id": "85eb3c90",
   "metadata": {},
   "outputs": [
    {
     "data": {
      "text/html": [
       "<div>\n",
       "<style scoped>\n",
       "    .dataframe tbody tr th:only-of-type {\n",
       "        vertical-align: middle;\n",
       "    }\n",
       "\n",
       "    .dataframe tbody tr th {\n",
       "        vertical-align: top;\n",
       "    }\n",
       "\n",
       "    .dataframe thead th {\n",
       "        text-align: right;\n",
       "    }\n",
       "</style>\n",
       "<table border=\"1\" class=\"dataframe\">\n",
       "  <thead>\n",
       "    <tr style=\"text-align: right;\">\n",
       "      <th></th>\n",
       "      <th>Employee_ID</th>\n",
       "      <th>Name</th>\n",
       "      <th>Department</th>\n",
       "      <th>Salary</th>\n",
       "      <th>Joining_Date</th>\n",
       "    </tr>\n",
       "  </thead>\n",
       "  <tbody>\n",
       "    <tr>\n",
       "      <th>0</th>\n",
       "      <td>101</td>\n",
       "      <td>Amit</td>\n",
       "      <td>HR</td>\n",
       "      <td>50000</td>\n",
       "      <td>2022-01-10</td>\n",
       "    </tr>\n",
       "    <tr>\n",
       "      <th>1</th>\n",
       "      <td>102</td>\n",
       "      <td>Bhavna</td>\n",
       "      <td>Finance</td>\n",
       "      <td>60000</td>\n",
       "      <td>2021-03-15</td>\n",
       "    </tr>\n",
       "    <tr>\n",
       "      <th>2</th>\n",
       "      <td>103</td>\n",
       "      <td>Chetan</td>\n",
       "      <td>IT</td>\n",
       "      <td>55000</td>\n",
       "      <td>2020-07-01</td>\n",
       "    </tr>\n",
       "    <tr>\n",
       "      <th>3</th>\n",
       "      <td>104</td>\n",
       "      <td>Divya</td>\n",
       "      <td>Marketing</td>\n",
       "      <td>52000</td>\n",
       "      <td>2023-02-20</td>\n",
       "    </tr>\n",
       "  </tbody>\n",
       "</table>\n",
       "</div>"
      ],
      "text/plain": [
       "   Employee_ID    Name Department  Salary Joining_Date\n",
       "0          101    Amit         HR   50000   2022-01-10\n",
       "1          102  Bhavna    Finance   60000   2021-03-15\n",
       "2          103  Chetan         IT   55000   2020-07-01\n",
       "3          104   Divya  Marketing   52000   2023-02-20"
      ]
     },
     "execution_count": 6,
     "metadata": {},
     "output_type": "execute_result"
    }
   ],
   "source": [
    "df_parquet"
   ]
  },
  {
   "cell_type": "code",
   "execution_count": 7,
   "id": "bf809208",
   "metadata": {},
   "outputs": [],
   "source": [
    "df.to_excel('employees.xlsx', index=False, sheet_name='EmployeeData')"
   ]
  },
  {
   "cell_type": "code",
   "execution_count": 8,
   "id": "1caa2a2e",
   "metadata": {},
   "outputs": [],
   "source": [
    "df_excel = pd.read_excel('employees.xlsx', sheet_name='EmployeeData')"
   ]
  },
  {
   "cell_type": "code",
   "execution_count": 9,
   "id": "4e9265e6",
   "metadata": {},
   "outputs": [
    {
     "data": {
      "text/html": [
       "<div>\n",
       "<style scoped>\n",
       "    .dataframe tbody tr th:only-of-type {\n",
       "        vertical-align: middle;\n",
       "    }\n",
       "\n",
       "    .dataframe tbody tr th {\n",
       "        vertical-align: top;\n",
       "    }\n",
       "\n",
       "    .dataframe thead th {\n",
       "        text-align: right;\n",
       "    }\n",
       "</style>\n",
       "<table border=\"1\" class=\"dataframe\">\n",
       "  <thead>\n",
       "    <tr style=\"text-align: right;\">\n",
       "      <th></th>\n",
       "      <th>Employee_ID</th>\n",
       "      <th>Name</th>\n",
       "      <th>Department</th>\n",
       "      <th>Salary</th>\n",
       "      <th>Joining_Date</th>\n",
       "    </tr>\n",
       "  </thead>\n",
       "  <tbody>\n",
       "    <tr>\n",
       "      <th>0</th>\n",
       "      <td>101</td>\n",
       "      <td>Amit</td>\n",
       "      <td>HR</td>\n",
       "      <td>50000</td>\n",
       "      <td>2022-01-10</td>\n",
       "    </tr>\n",
       "    <tr>\n",
       "      <th>1</th>\n",
       "      <td>102</td>\n",
       "      <td>Bhavna</td>\n",
       "      <td>Finance</td>\n",
       "      <td>60000</td>\n",
       "      <td>2021-03-15</td>\n",
       "    </tr>\n",
       "    <tr>\n",
       "      <th>2</th>\n",
       "      <td>103</td>\n",
       "      <td>Chetan</td>\n",
       "      <td>IT</td>\n",
       "      <td>55000</td>\n",
       "      <td>2020-07-01</td>\n",
       "    </tr>\n",
       "    <tr>\n",
       "      <th>3</th>\n",
       "      <td>104</td>\n",
       "      <td>Divya</td>\n",
       "      <td>Marketing</td>\n",
       "      <td>52000</td>\n",
       "      <td>2023-02-20</td>\n",
       "    </tr>\n",
       "  </tbody>\n",
       "</table>\n",
       "</div>"
      ],
      "text/plain": [
       "   Employee_ID    Name Department  Salary Joining_Date\n",
       "0          101    Amit         HR   50000   2022-01-10\n",
       "1          102  Bhavna    Finance   60000   2021-03-15\n",
       "2          103  Chetan         IT   55000   2020-07-01\n",
       "3          104   Divya  Marketing   52000   2023-02-20"
      ]
     },
     "execution_count": 9,
     "metadata": {},
     "output_type": "execute_result"
    }
   ],
   "source": [
    "df_excel"
   ]
  },
  {
   "cell_type": "code",
   "execution_count": 10,
   "id": "b36e45b8",
   "metadata": {},
   "outputs": [],
   "source": [
    "df.to_json('employees.json', orient='records', indent=4)"
   ]
  },
  {
   "cell_type": "code",
   "execution_count": null,
   "id": "fa3b7608",
   "metadata": {},
   "outputs": [],
   "source": []
  }
 ],
 "metadata": {
  "kernelspec": {
   "display_name": "Python 3 (ipykernel)",
   "language": "python",
   "name": "python3"
  },
  "language_info": {
   "codemirror_mode": {
    "name": "ipython",
    "version": 3
   },
   "file_extension": ".py",
   "mimetype": "text/x-python",
   "name": "python",
   "nbconvert_exporter": "python",
   "pygments_lexer": "ipython3",
   "version": "3.10.1"
  }
 },
 "nbformat": 4,
 "nbformat_minor": 5
}
